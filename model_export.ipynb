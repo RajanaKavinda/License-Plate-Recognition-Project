{
 "cells": [
  {
   "cell_type": "markdown",
   "id": "fc8dde8a",
   "metadata": {},
   "source": [
    "# Detection model export to tensorrt"
   ]
  },
  {
   "cell_type": "code",
   "execution_count": 1,
   "id": "07c1c01b",
   "metadata": {},
   "outputs": [
    {
     "name": "stdout",
     "output_type": "stream",
     "text": [
      "Ultralytics 8.3.146  Python-3.10.11 torch-2.7.0+cu126 CUDA:0 (NVIDIA GeForce MX250, 4096MiB)\n",
      "WARNING INT8 export requires a missing 'data' arg for calibration. Using default 'data=coco8.yaml'.\n",
      "YOLO11s summary (fused): 100 layers, 9,413,187 parameters, 0 gradients, 21.3 GFLOPs\n",
      "\n",
      "\u001b[34m\u001b[1mPyTorch:\u001b[0m starting from 'best_model_yolo11s.pt' with input shape (1, 3, 640, 640) BCHW and output shape(s) (1, 5, 8400) (18.3 MB)\n",
      "\n",
      "\u001b[34m\u001b[1mONNX:\u001b[0m starting export with onnx 1.17.0 opset 19...\n",
      "\u001b[34m\u001b[1mONNX:\u001b[0m slimming with onnxslim 0.1.55...\n",
      "\u001b[34m\u001b[1mONNX:\u001b[0m export success  23.5s, saved as 'best_model_yolo11s.onnx' (36.1 MB)\n",
      "\n",
      "\u001b[34m\u001b[1mTensorRT:\u001b[0m starting export with TensorRT 10.11.0.33...\n",
      "\u001b[34m\u001b[1mTensorRT:\u001b[0m collecting INT8 calibration images from 'data=coco8.yaml'\n",
      "Fast image access  (ping: 0.20.1 ms, read: 0.40.3 MB/s, size: 54.0 KB)\n",
      "WARNING \u001b[34m\u001b[1mTensorRT:\u001b[0m >300 images recommended for INT8 calibration, found 4 images.\n",
      "[06/02/2025-16:45:13] [TRT] [I] [MemUsageChange] Init CUDA: CPU +1, GPU +0, now: CPU 7074, GPU 903 (MiB)\n",
      "[06/02/2025-16:45:15] [TRT] [I] [MemUsageChange] Init builder kernel library: CPU +7, GPU +0, now: CPU 7383, GPU 903 (MiB)\n",
      "[06/02/2025-16:45:19] [TRT] [I] ----------------------------------------------------------------\n",
      "[06/02/2025-16:45:19] [TRT] [I] Input filename:   best_model_yolo11s.onnx\n",
      "[06/02/2025-16:45:19] [TRT] [I] ONNX IR version:  0.0.9\n",
      "[06/02/2025-16:45:19] [TRT] [I] Opset version:    19\n",
      "[06/02/2025-16:45:19] [TRT] [I] Producer name:    pytorch\n",
      "[06/02/2025-16:45:19] [TRT] [I] Producer version: 2.7.0\n",
      "[06/02/2025-16:45:19] [TRT] [I] Domain:           \n",
      "[06/02/2025-16:45:19] [TRT] [I] Model version:    0\n",
      "[06/02/2025-16:45:19] [TRT] [I] Doc string:       \n",
      "[06/02/2025-16:45:19] [TRT] [I] ----------------------------------------------------------------\n",
      "\u001b[34m\u001b[1mTensorRT:\u001b[0m input \"images\" with shape(-1, 3, -1, -1) DataType.FLOAT\n",
      "\u001b[34m\u001b[1mTensorRT:\u001b[0m output \"output0\" with shape(-1, 5, -1) DataType.FLOAT\n",
      "WARNING \u001b[34m\u001b[1mTensorRT:\u001b[0m 'dynamic=True' model requires max batch size, i.e. 'batch=16'\n",
      "\u001b[34m\u001b[1mTensorRT:\u001b[0m building INT8 engine as best_model_yolo11s.engine\n",
      "[06/02/2025-16:45:19] [TRT] [E] IBuilder::buildSerializedNetwork: Error Code 9: API Usage Error (Target GPU SM 61 is not supported by this TensorRT release.)\n",
      "ERROR \u001b[34m\u001b[1mTensorRT:\u001b[0m export failure 32.2s: __enter__\n"
     ]
    },
    {
     "name": "stderr",
     "output_type": "stream",
     "text": [
      "\n",
      "Scanning G:\\My Documents\\Digital Neuron Labtech\\Project Src\\datasets\\coco8\\labels\\val.cache... 4 images, 0 backgrounds, 0 corrupt: 100%|██████████| 4/4 [00:00<?, ?it/s]\n",
      "Scanning G:\\My Documents\\Digital Neuron Labtech\\Project Src\\datasets\\coco8\\labels\\val.cache... 4 images, 0 backgrounds, 0 corrupt: 100%|██████████| 4/4 [00:00<?, ?it/s]\n",
      "Traceback (most recent call last):\n",
      "  File \"C:\\Users\\User\\AppData\\Local\\Programs\\Python\\Python310\\lib\\runpy.py\", line 196, in _run_module_as_main\n",
      "    return _run_code(code, main_globals, None,\n",
      "  File \"C:\\Users\\User\\AppData\\Local\\Programs\\Python\\Python310\\lib\\runpy.py\", line 86, in _run_code\n",
      "    exec(code, run_globals)\n",
      "  File \"C:\\Users\\User\\AppData\\Local\\Programs\\Python\\Python310\\Scripts\\yolo.exe\\__main__.py\", line 7, in <module>\n",
      "  File \"C:\\Users\\User\\AppData\\Local\\Programs\\Python\\Python310\\lib\\site-packages\\ultralytics\\cfg\\__init__.py\", line 983, in entrypoint\n",
      "    getattr(model, mode)(**overrides)  # default args from model\n",
      "  File \"C:\\Users\\User\\AppData\\Local\\Programs\\Python\\Python310\\lib\\site-packages\\ultralytics\\engine\\model.py\", line 734, in export\n",
      "    return Exporter(overrides=args, _callbacks=self.callbacks)(model=self.model)\n",
      "  File \"C:\\Users\\User\\AppData\\Local\\Programs\\Python\\Python310\\lib\\site-packages\\ultralytics\\engine\\exporter.py\", line 500, in __call__\n",
      "    f[1], _ = self.export_engine(dla=dla)\n",
      "  File \"C:\\Users\\User\\AppData\\Local\\Programs\\Python\\Python310\\lib\\site-packages\\ultralytics\\engine\\exporter.py\", line 197, in outer_func\n",
      "    raise e\n",
      "  File \"C:\\Users\\User\\AppData\\Local\\Programs\\Python\\Python310\\lib\\site-packages\\ultralytics\\engine\\exporter.py\", line 192, in outer_func\n",
      "    f, model = inner_func(*args, **kwargs)\n",
      "  File \"C:\\Users\\User\\AppData\\Local\\Programs\\Python\\Python310\\lib\\site-packages\\ultralytics\\engine\\exporter.py\", line 938, in export_engine\n",
      "    export_engine(\n",
      "  File \"C:\\Users\\User\\AppData\\Local\\Programs\\Python\\Python310\\lib\\site-packages\\ultralytics\\utils\\export.py\", line 226, in export_engine\n",
      "    with build(network, config) as engine, open(engine_file, \"wb\") as t:\n",
      "AttributeError: __enter__\n"
     ]
    }
   ],
   "source": [
    "!yolo export model=\"best_model_yolo11s.pt\" format=\"engine\" imgsz=\"640\" device=0 int8=True "
   ]
  },
  {
   "cell_type": "code",
   "execution_count": 2,
   "id": "36a2829c",
   "metadata": {},
   "outputs": [
    {
     "name": "stdout",
     "output_type": "stream",
     "text": [
      "10.11.0.33\n"
     ]
    }
   ],
   "source": [
    "import tensorrt\n",
    "print(tensorrt.__version__)\n",
    "assert tensorrt.Builder(tensorrt.Logger())"
   ]
  }
 ],
 "metadata": {
  "kernelspec": {
   "display_name": "Python 3",
   "language": "python",
   "name": "python3"
  },
  "language_info": {
   "codemirror_mode": {
    "name": "ipython",
    "version": 3
   },
   "file_extension": ".py",
   "mimetype": "text/x-python",
   "name": "python",
   "nbconvert_exporter": "python",
   "pygments_lexer": "ipython3",
   "version": "3.10.11"
  }
 },
 "nbformat": 4,
 "nbformat_minor": 5
}
