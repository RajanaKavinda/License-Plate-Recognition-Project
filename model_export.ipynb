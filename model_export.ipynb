{
 "cells": [
  {
   "cell_type": "markdown",
   "id": "fc8dde8a",
   "metadata": {},
   "source": [
    "# Detection model export to tensorrt"
   ]
  },
  {
   "cell_type": "code",
   "execution_count": 1,
   "id": "07c1c01b",
   "metadata": {},
   "outputs": [
    {
     "name": "stdout",
     "output_type": "stream",
     "text": [
      "Ultralytics 8.3.146  Python-3.10.11 torch-2.7.0+cu126 CUDA:0 (NVIDIA GeForce MX250, 4096MiB)"
     ]
    },
    {
     "name": "stderr",
     "output_type": "stream",
     "text": [
      "\n",
      "  0%|          | 0.00/433k [00:00<?, ?B/s]\n",
      " 30%|██▉       | 128k/433k [00:00<00:00, 719kB/s]\n",
      " 59%|█████▉    | 256k/433k [00:00<00:00, 598kB/s]\n",
      " 89%|████████▊ | 384k/433k [00:00<00:00, 414kB/s]\n",
      "100%|██████████| 433k/433k [00:00<00:00, 515kB/s]\n",
      "\n",
      "Unzipping G:\\My Documents\\Digital Neuron Labtech\\Project Src\\datasets\\coco8.zip to G:\\My Documents\\Digital Neuron Labtech\\Project Src\\datasets\\coco8...:   0%|          | 0/25 [00:00<?, ?file/s]\n",
      "Unzipping G:\\My Documents\\Digital Neuron Labtech\\Project Src\\datasets\\coco8.zip to G:\\My Documents\\Digital Neuron Labtech\\Project Src\\datasets\\coco8...:   4%|▍         | 1/25 [00:00<00:04,  5.42file/s]\n",
      "Unzipping G:\\My Documents\\Digital Neuron Labtech\\Project Src\\datasets\\coco8.zip to G:\\My Documents\\Digital Neuron Labtech\\Project Src\\datasets\\coco8...:   8%|▊         | 2/25 [00:00<00:05,  4.36file/s]\n",
      "Unzipping G:\\My Documents\\Digital Neuron Labtech\\Project Src\\datasets\\coco8.zip to G:\\My Documents\\Digital Neuron Labtech\\Project Src\\datasets\\coco8...:  20%|██        | 5/25 [00:00<00:02,  7.09file/s]\n",
      "Unzipping G:\\My Documents\\Digital Neuron Labtech\\Project Src\\datasets\\coco8.zip to G:\\My Documents\\Digital Neuron Labtech\\Project Src\\datasets\\coco8...:  36%|███▌      | 9/25 [00:00<00:01, 11.73file/s]\n",
      "Unzipping G:\\My Documents\\Digital Neuron Labtech\\Project Src\\datasets\\coco8.zip to G:\\My Documents\\Digital Neuron Labtech\\Project Src\\datasets\\coco8...:  44%|████▍     | 11/25 [00:01<00:01,  7.01file/s]\n",
      "Unzipping G:\\My Documents\\Digital Neuron Labtech\\Project Src\\datasets\\coco8.zip to G:\\My Documents\\Digital Neuron Labtech\\Project Src\\datasets\\coco8...:  52%|█████▏    | 13/25 [00:01<00:02,  5.83file/s]\n",
      "Unzipping G:\\My Documents\\Digital Neuron Labtech\\Project Src\\datasets\\coco8.zip to G:\\My Documents\\Digital Neuron Labtech\\Project Src\\datasets\\coco8...:  68%|██████▊   | 17/25 [00:02<00:01,  7.07file/s]\n",
      "Unzipping G:\\My Documents\\Digital Neuron Labtech\\Project Src\\datasets\\coco8.zip to G:\\My Documents\\Digital Neuron Labtech\\Project Src\\datasets\\coco8...: 100%|██████████| 25/25 [00:02<00:00, 10.34file/s]\n",
      "\n",
      "Scanning G:\\My Documents\\Digital Neuron Labtech\\Project Src\\datasets\\coco8\\labels\\val...:   0%|          | 0/4 [00:00<?, ?it/s]\n",
      "Scanning G:\\My Documents\\Digital Neuron Labtech\\Project Src\\datasets\\coco8\\labels\\val... 3 images, 0 backgrounds, 0 corrupt:  75%|███████▌  | 3/4 [00:00<00:00, 26.79it/s]\n",
      "Scanning G:\\My Documents\\Digital Neuron Labtech\\Project Src\\datasets\\coco8\\labels\\val... 4 images, 0 backgrounds, 0 corrupt: 100%|██████████| 4/4 [00:00<00:00, 35.72it/s]\n",
      "Traceback (most recent call last):\n",
      "  File \"C:\\Users\\User\\AppData\\Local\\Programs\\Python\\Python310\\lib\\runpy.py\", line 196, in _run_module_as_main\n",
      "    return _run_code(code, main_globals, None,\n",
      "  File \"C:\\Users\\User\\AppData\\Local\\Programs\\Python\\Python310\\lib\\runpy.py\", line 86, in _run_code\n",
      "    exec(code, run_globals)\n",
      "  File \"C:\\Users\\User\\AppData\\Local\\Programs\\Python\\Python310\\Scripts\\yolo.exe\\__main__.py\", line 7, in <module>\n",
      "  File \"C:\\Users\\User\\AppData\\Local\\Programs\\Python\\Python310\\lib\\site-packages\\ultralytics\\cfg\\__init__.py\", line 983, in entrypoint\n",
      "    getattr(model, mode)(**overrides)  # default args from model\n",
      "  File \"C:\\Users\\User\\AppData\\Local\\Programs\\Python\\Python310\\lib\\site-packages\\ultralytics\\engine\\model.py\", line 734, in export\n",
      "    return Exporter(overrides=args, _callbacks=self.callbacks)(model=self.model)\n",
      "  File \"C:\\Users\\User\\AppData\\Local\\Programs\\Python\\Python310\\lib\\site-packages\\ultralytics\\engine\\exporter.py\", line 500, in __call__\n",
      "    f[1], _ = self.export_engine(dla=dla)\n",
      "  File \"C:\\Users\\User\\AppData\\Local\\Programs\\Python\\Python310\\lib\\site-packages\\ultralytics\\engine\\exporter.py\", line 197, in outer_func\n",
      "    raise e\n",
      "  File \"C:\\Users\\User\\AppData\\Local\\Programs\\Python\\Python310\\lib\\site-packages\\ultralytics\\engine\\exporter.py\", line 192, in outer_func\n",
      "    f, model = inner_func(*args, **kwargs)\n",
      "  File \"C:\\Users\\User\\AppData\\Local\\Programs\\Python\\Python310\\lib\\site-packages\\ultralytics\\engine\\exporter.py\", line 938, in export_engine\n",
      "    export_engine(\n",
      "  File \"C:\\Users\\User\\AppData\\Local\\Programs\\Python\\Python310\\lib\\site-packages\\ultralytics\\utils\\export.py\", line 226, in export_engine\n",
      "    with build(network, config) as engine, open(engine_file, \"wb\") as t:\n",
      "AttributeError: __enter__\n"
     ]
    },
    {
     "name": "stdout",
     "output_type": "stream",
     "text": [
      "\n",
      "WARNING INT8 export requires a missing 'data' arg for calibration. Using default 'data=coco8.yaml'.\n",
      "YOLO11s summary (fused): 100 layers, 9,413,187 parameters, 0 gradients, 21.3 GFLOPs\n",
      "\n",
      "\u001b[34m\u001b[1mPyTorch:\u001b[0m starting from 'best_model_yolo11s.pt' with input shape (1, 3, 640, 640) BCHW and output shape(s) (1, 5, 8400) (18.3 MB)\n",
      "\n",
      "\u001b[34m\u001b[1mONNX:\u001b[0m starting export with onnx 1.17.0 opset 19...\n",
      "\u001b[34m\u001b[1mONNX:\u001b[0m slimming with onnxslim 0.1.55...\n",
      "\u001b[34m\u001b[1mONNX:\u001b[0m export success  21.0s, saved as 'best_model_yolo11s.onnx' (36.1 MB)\n",
      "\n",
      "\u001b[34m\u001b[1mTensorRT:\u001b[0m starting export with TensorRT 10.11.0.33...\n",
      "\u001b[34m\u001b[1mTensorRT:\u001b[0m collecting INT8 calibration images from 'data=coco8.yaml'\n",
      "\n",
      "WARNING Dataset 'coco8.yaml' images not found, missing path 'G:\\My Documents\\Digital Neuron Labtech\\Project Src\\datasets\\coco8\\images\\val'\n",
      "Downloading https://ultralytics.com/assets/coco8.zip to 'G:\\My Documents\\Digital Neuron Labtech\\Project Src\\datasets\\coco8.zip'...\n",
      "Dataset download success  (7.5s), saved to \u001b[1mG:\\My Documents\\Digital Neuron Labtech\\Project Src\\datasets\u001b[0m\n",
      "\n",
      "Fast image access  (ping: 0.10.0 ms, read: 2.10.4 MB/s, size: 54.0 KB)\n",
      "New cache created: G:\\My Documents\\Digital Neuron Labtech\\Project Src\\datasets\\coco8\\labels\\val.cache\n",
      "WARNING \u001b[34m\u001b[1mTensorRT:\u001b[0m >300 images recommended for INT8 calibration, found 4 images.\n",
      "[06/03/2025-15:23:19] [TRT] [I] [MemUsageChange] Init CUDA: CPU +3, GPU +0, now: CPU 7512, GPU 903 (MiB)\n",
      "[06/03/2025-15:23:20] [TRT] [I] [MemUsageChange] Init builder kernel library: CPU -62, GPU +0, now: CPU 7608, GPU 903 (MiB)\n",
      "[06/03/2025-15:23:35] [TRT] [I] ----------------------------------------------------------------\n",
      "[06/03/2025-15:23:35] [TRT] [I] Input filename:   best_model_yolo11s.onnx\n",
      "[06/03/2025-15:23:35] [TRT] [I] ONNX IR version:  0.0.9\n",
      "[06/03/2025-15:23:35] [TRT] [I] Opset version:    19\n",
      "[06/03/2025-15:23:35] [TRT] [I] Producer name:    pytorch\n",
      "[06/03/2025-15:23:35] [TRT] [I] Producer version: 2.7.0\n",
      "[06/03/2025-15:23:35] [TRT] [I] Domain:           \n",
      "[06/03/2025-15:23:35] [TRT] [I] Model version:    0\n",
      "[06/03/2025-15:23:35] [TRT] [I] Doc string:       \n",
      "[06/03/2025-15:23:35] [TRT] [I] ----------------------------------------------------------------\n",
      "\u001b[34m\u001b[1mTensorRT:\u001b[0m input \"images\" with shape(-1, 3, -1, -1) DataType.FLOAT\n",
      "\u001b[34m\u001b[1mTensorRT:\u001b[0m output \"output0\" with shape(-1, 5, -1) DataType.FLOAT\n",
      "WARNING \u001b[34m\u001b[1mTensorRT:\u001b[0m 'dynamic=True' model requires max batch size, i.e. 'batch=16'\n",
      "\u001b[34m\u001b[1mTensorRT:\u001b[0m building INT8 engine as best_model_yolo11s.engine\n",
      "[06/03/2025-15:23:35] [TRT] [E] IBuilder::buildSerializedNetwork: Error Code 9: API Usage Error (Target GPU SM 61 is not supported by this TensorRT release.)\n",
      "ERROR \u001b[34m\u001b[1mTensorRT:\u001b[0m export failure 52.9s: __enter__\n"
     ]
    }
   ],
   "source": [
    "!yolo export model=\"best_model_yolo11s.pt\" format=\"engine\" imgsz=\"640\" device=0 int8=True "
   ]
  },
  {
   "cell_type": "code",
   "execution_count": 2,
   "id": "36a2829c",
   "metadata": {},
   "outputs": [
    {
     "name": "stdout",
     "output_type": "stream",
     "text": [
      "10.11.0.33\n"
     ]
    }
   ],
   "source": [
    "import tensorrt\n",
    "print(tensorrt.__version__)\n",
    "assert tensorrt.Builder(tensorrt.Logger())"
   ]
  },
  {
   "cell_type": "markdown",
   "id": "2c6e0180",
   "metadata": {},
   "source": [
    "# Recognition Model Export"
   ]
  },
  {
   "cell_type": "code",
   "execution_count": 16,
   "id": "02c52a7f",
   "metadata": {},
   "outputs": [],
   "source": [
    "import sys\n",
    "sys.path.append(\"G:/My Documents/Digital Neuron Labtech/Project Src/Recognition Model\")  # Replace with your actual path"
   ]
  },
  {
   "cell_type": "code",
   "execution_count": 17,
   "id": "c2789417",
   "metadata": {},
   "outputs": [],
   "source": [
    "import torch\n",
    "import torch.onnx\n",
    "from num_plate_ocr import Model"
   ]
  },
  {
   "cell_type": "code",
   "execution_count": null,
   "id": "b4bb6d30",
   "metadata": {},
   "outputs": [
    {
     "name": "stdout",
     "output_type": "stream",
     "text": [
      "No Transformation module specified\n",
      "✅ Model loaded successfully\n"
     ]
    },
    {
     "name": "stderr",
     "output_type": "stream",
     "text": [
      "C:\\Users\\User\\AppData\\Local\\Temp\\ipykernel_9508\\3538778774.py:9: FutureWarning: You are using `torch.load` with `weights_only=False` (the current default value), which uses the default pickle module implicitly. It is possible to construct malicious pickle data which will execute arbitrary code during unpickling (See https://github.com/pytorch/pytorch/blob/main/SECURITY.md#untrusted-models for more details). In a future release, the default value for `weights_only` will be flipped to `True`. This limits the functions that could be executed during unpickling. Arbitrary objects will no longer be allowed to be loaded via this mode unless they are explicitly allowlisted by the user via `torch.serialization.add_safe_globals`. We recommend you start setting `weights_only=True` for any use case where you don't have full control of the loaded file. Please open an issue on GitHub for any issues related to this experimental feature.\n",
      "  state_dict = torch.load(\"G:/My Documents/Digital Neuron Labtech/Project Src/Recognition Model/num_plate_ocr.pth\", map_location='cpu')\n"
     ]
    }
   ],
   "source": [
    "from num_plate_ocr import Model\n",
    "\n",
    "# Initialize your model\n",
    "model = Model()\n",
    "model.eval()\n",
    "\n",
    "# Load state_dict and remove 'module.' prefix if present\n",
    "state_dict = torch.load(\"G:/My Documents/Digital Neuron Labtech/Project Src/Recognition Model/num_plate_ocr.pth\", map_location='cpu')\n",
    "new_state_dict = {}\n",
    "\n",
    "for k, v in state_dict.items():\n",
    "    new_k = k.replace(\"module.\", \"\") if k.startswith(\"module.\") else k\n",
    "    new_state_dict[new_k] = v\n",
    "\n",
    "# Load corrected state_dict\n",
    "model.load_state_dict(new_state_dict)\n",
    "print(\"✅ Model loaded successfully\")\n"
   ]
  }
 ],
 "metadata": {
  "kernelspec": {
   "display_name": "Python 3",
   "language": "python",
   "name": "python3"
  },
  "language_info": {
   "codemirror_mode": {
    "name": "ipython",
    "version": 3
   },
   "file_extension": ".py",
   "mimetype": "text/x-python",
   "name": "python",
   "nbconvert_exporter": "python",
   "pygments_lexer": "ipython3",
   "version": "3.12.6"
  }
 },
 "nbformat": 4,
 "nbformat_minor": 5
}
